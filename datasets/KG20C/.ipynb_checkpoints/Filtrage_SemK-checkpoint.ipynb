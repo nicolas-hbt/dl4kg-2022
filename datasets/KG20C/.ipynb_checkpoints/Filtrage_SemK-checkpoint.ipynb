{
 "cells": [
  {
   "cell_type": "code",
   "execution_count": 1,
   "id": "803a5176",
   "metadata": {},
   "outputs": [],
   "source": [
    "import torch.nn as nn\n",
    "import torch\n",
    "import numpy as np\n",
    "import time\n",
    "from collections import defaultdict\n",
    "import pandas as pd\n",
    "from torch.utils import data as torch_data\n",
    "#from ..models import TransE, TransH, DistMult\n",
    "import copy\n",
    "import pickle\n",
    "from numpy import genfromtxt\n",
    "import logging\n",
    "\n",
    "logging.basicConfig(level=logging.INFO)\n",
    "logger = logging.getLogger(__name__)"
   ]
  },
  {
   "cell_type": "code",
   "execution_count": 2,
   "id": "7b4befb9",
   "metadata": {},
   "outputs": [],
   "source": [
    "train = torch.as_tensor(genfromtxt('train2id.txt', delimiter='\\t'), dtype=torch.int32)\n",
    "valid = torch.as_tensor(genfromtxt('valid2id.txt', delimiter='\\t'), dtype=torch.int32)\n",
    "test = torch.as_tensor(genfromtxt('test2id.txt', delimiter='\\t'), dtype=torch.int32)\n",
    "all_triples = torch.cat((train,valid,test))"
   ]
  },
  {
   "cell_type": "code",
   "execution_count": 4,
   "id": "c7340bc2",
   "metadata": {},
   "outputs": [],
   "source": [
    "X = pd.DataFrame(all_triples.numpy(), columns=['s','p','o'])"
   ]
  },
  {
   "cell_type": "code",
   "execution_count": 5,
   "id": "91b142bf",
   "metadata": {},
   "outputs": [
    {
     "name": "stderr",
     "output_type": "stream",
     "text": [
      "INFO:numexpr.utils:NumExpr defaulting to 8 threads.\n"
     ]
    }
   ],
   "source": [
    "unique_ent = {}\n",
    "for p in X.p.unique():\n",
    "    tmp = X[X.p==p].nunique()\n",
    "    unique_ent[p] = {'s': tmp[0], 'o': tmp[2]}"
   ]
  },
  {
   "cell_type": "code",
   "execution_count": 6,
   "id": "c8f4241b",
   "metadata": {},
   "outputs": [
    {
     "data": {
      "text/plain": [
       "{0: {'s': 6471, 'o': 692},\n",
       " 1: {'s': 8680, 'o': 5042},\n",
       " 2: {'s': 2942, 'o': 2604},\n",
       " 3: {'s': 5047, 'o': 1923},\n",
       " 4: {'s': 5047, 'o': 20}}"
      ]
     },
     "execution_count": 6,
     "metadata": {},
     "output_type": "execute_result"
    }
   ],
   "source": [
    "unique_ent"
   ]
  },
  {
   "cell_type": "code",
   "execution_count": 7,
   "id": "5d3d09b5",
   "metadata": {},
   "outputs": [],
   "source": [
    "# rien à retirer pour KG20C !"
   ]
  },
  {
   "cell_type": "code",
   "execution_count": null,
   "id": "d8bb8be1",
   "metadata": {},
   "outputs": [],
   "source": []
  }
 ],
 "metadata": {
  "kernelspec": {
   "display_name": "Python 3 (ipykernel)",
   "language": "python",
   "name": "python3"
  },
  "language_info": {
   "codemirror_mode": {
    "name": "ipython",
    "version": 3
   },
   "file_extension": ".py",
   "mimetype": "text/x-python",
   "name": "python",
   "nbconvert_exporter": "python",
   "pygments_lexer": "ipython3",
   "version": "3.9.7"
  }
 },
 "nbformat": 4,
 "nbformat_minor": 5
}
