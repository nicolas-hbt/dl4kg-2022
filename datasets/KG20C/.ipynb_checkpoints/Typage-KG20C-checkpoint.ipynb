{
 "cells": [
  {
   "cell_type": "code",
   "execution_count": 46,
   "id": "75c65461",
   "metadata": {},
   "outputs": [],
   "source": [
    "import pandas as pd\n",
    "import numpy as np\n",
    "import pickle\n",
    "import torch"
   ]
  },
  {
   "cell_type": "code",
   "execution_count": 47,
   "id": "5e2637bf",
   "metadata": {},
   "outputs": [],
   "source": [
    "train = pd.read_csv('train_t.csv', header=None, sep=',', names=['sid', 'pid', 'oid', 's','p','o','st','ot','stid','otid'])\n",
    "train = train.iloc[1:]\n",
    "# val = pd.read_csv('valid_t.csv', header=None, sep=',', names=['s','p','o','st','ot','stid','otid'])\n",
    "# test = pd.read_csv('test_t.csv', header=None, sep=',', names=['s','p','o','st','ot','stid','otid'])\n",
    "train = train.astype({\"sid\":\"int\",\"pid\":\"int\",\"oid\":\"int\",\"stid\":\"int\",\"otid\":\"int\"})\n",
    "train.index = train.index.astype(int)"
   ]
  },
  {
   "cell_type": "code",
   "execution_count": 48,
   "id": "fd4a8e4b",
   "metadata": {},
   "outputs": [],
   "source": [
    "ent2id = {}\n",
    "rel2id = {}\n",
    "entid2typid = {}\n",
    "type2id = {}\n",
    "for i, row in train.iterrows():\n",
    "    if not row['s'] in ent2id :\n",
    "        ent2id[row['s']] = int(row['sid'])\n",
    "    if not row['o'] in ent2id :\n",
    "        ent2id[row['o']] = int(row['oid'])\n",
    "    if not row['p'] in rel2id :\n",
    "        rel2id[row['p']] = int(row['pid'])\n",
    "    if not row['st'] in type2id :\n",
    "        type2id[row['st']] = int(row['stid'])\n",
    "    if not row['ot'] in type2id :\n",
    "        type2id[row['ot']] = int(row['otid'])\n",
    "    if not int(row['sid']) in entid2typid :\n",
    "        entid2typid[int(row['sid'])] = int(row['stid'])\n",
    "    if not int(row['oid']) in entid2typid :\n",
    "        entid2typid[int(row['oid'])] = int(row['otid'])\n",
    "id2ent = {v: k for k, v in ent2id.items()}\n",
    "id2rel = {v: k for k, v in rel2id.items()}\n",
    "id2type = {v: k for k, v in type2id.items()}\n",
    "typid2entid = {}\n",
    "for k,v in entid2typid.items():\n",
    "    typid2entid.setdefault(v,[]).append(k)"
   ]
  },
  {
   "cell_type": "code",
   "execution_count": 49,
   "id": "4519c6bb",
   "metadata": {},
   "outputs": [],
   "source": [
    "all_possible_ts = {}\n",
    "all_possible_hs = {}\n",
    "X_train = torch.tensor(train[['sid','pid','oid']].values)\n",
    "# for r in X_train[:,1].unique():\n",
    "#     X_tmp = X_train[X_train[:,1]==r]\n",
    "for triple in range(X_train.shape[0]):\n",
    "    h,r,t = X_train[triple][0].item(), X_train[triple][1].item(), X_train[triple][2].item()\n",
    "    try:\n",
    "        all_possible_ts[r].append(t)\n",
    "    except KeyError:\n",
    "        all_possible_ts[r] = [t]\n",
    "    try:\n",
    "        all_possible_hs[r].append(h)\n",
    "    except KeyError:\n",
    "        all_possible_hs[r] = [h]"
   ]
  },
  {
   "cell_type": "code",
   "execution_count": 50,
   "id": "7adc6cc4",
   "metadata": {},
   "outputs": [],
   "source": [
    "# domain-range for each relation in terms of admissible entity type\n",
    "dom_rel = {}\n",
    "range_rel = {}\n",
    "for r in X_train[:,1].unique():\n",
    "    range_ent = all_possible_ts[r.item()]\n",
    "    range_type = list(set([entid2typid[ent] for ent in range_ent]))\n",
    "    range_rel[r.item()] = range_type\n",
    "    \n",
    "    dom_ent = all_possible_hs[r.item()]\n",
    "    dom_type = list(set([entid2typid[ent] for ent in dom_ent]))\n",
    "    dom_rel[r.item()] = dom_type"
   ]
  },
  {
   "cell_type": "code",
   "execution_count": 51,
   "id": "a5de285c",
   "metadata": {},
   "outputs": [],
   "source": [
    "with open('ent2id.pkl', 'wb') as f:\n",
    "    pickle.dump(ent2id, f)\n",
    "with open('id2ent.pkl', 'wb') as f:\n",
    "    pickle.dump(id2ent, f)\n",
    "    \n",
    "with open('rel2id.pkl', 'wb') as f:\n",
    "    pickle.dump(rel2id, f)\n",
    "with open('id2rel.pkl', 'wb') as f:\n",
    "    pickle.dump(id2rel, f)\n",
    "    \n",
    "with open('type2id.pkl', 'wb') as f:\n",
    "    pickle.dump(type2id, f)\n",
    "with open('id2type.pkl', 'wb') as f:\n",
    "    pickle.dump(id2type, f)\n",
    "    \n",
    "with open('typid2entid.pkl', 'wb') as f:\n",
    "    pickle.dump(typid2entid, f)\n",
    "with open('entid2typid.pkl', 'wb') as f:\n",
    "    pickle.dump(entid2typid, f)\n",
    "    \n",
    "with open('rel2dom.pkl', 'wb') as f:\n",
    "    pickle.dump(dom_rel, f)\n",
    "with open('rel2range.pkl', 'wb') as f:\n",
    "    pickle.dump(range_rel, f)"
   ]
  },
  {
   "cell_type": "code",
   "execution_count": null,
   "id": "26bb1432",
   "metadata": {},
   "outputs": [],
   "source": []
  }
 ],
 "metadata": {
  "kernelspec": {
   "display_name": "Python 3 (ipykernel)",
   "language": "python",
   "name": "python3"
  },
  "language_info": {
   "codemirror_mode": {
    "name": "ipython",
    "version": 3
   },
   "file_extension": ".py",
   "mimetype": "text/x-python",
   "name": "python",
   "nbconvert_exporter": "python",
   "pygments_lexer": "ipython3",
   "version": "3.9.7"
  }
 },
 "nbformat": 4,
 "nbformat_minor": 5
}
