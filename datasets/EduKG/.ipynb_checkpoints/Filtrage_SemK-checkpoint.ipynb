{
 "cells": [
  {
   "cell_type": "code",
   "execution_count": 1,
   "id": "0bbc2e79",
   "metadata": {},
   "outputs": [],
   "source": [
    "import torch.nn as nn\n",
    "import torch\n",
    "import numpy as np\n",
    "import time\n",
    "from collections import defaultdict\n",
    "import pandas as pd\n",
    "from torch.utils import data as torch_data\n",
    "#from ..models import TransE, TransH, DistMult\n",
    "import copy\n",
    "import pickle\n",
    "from numpy import genfromtxt\n",
    "import logging\n",
    "\n",
    "logging.basicConfig(level=logging.INFO)\n",
    "logger = logging.getLogger(__name__)"
   ]
  },
  {
   "cell_type": "code",
   "execution_count": 2,
   "id": "e77acd30",
   "metadata": {},
   "outputs": [],
   "source": [
    "train = torch.as_tensor(genfromtxt('train2id.txt', delimiter='\\t'), dtype=torch.int32)\n",
    "valid = torch.as_tensor(genfromtxt('valid2id.txt', delimiter='\\t'), dtype=torch.int32)\n",
    "test = torch.as_tensor(genfromtxt('test2id.txt', delimiter='\\t'), dtype=torch.int32)\n",
    "all_triples = torch.cat((train,valid,test))"
   ]
  },
  {
   "cell_type": "code",
   "execution_count": 3,
   "id": "82ac8a7a",
   "metadata": {},
   "outputs": [
    {
     "data": {
      "text/plain": [
       "tensor([[2948,    9,   66],\n",
       "        [ 263,   18,  681],\n",
       "        [ 202,   19,  572],\n",
       "        ...,\n",
       "        [2664,   13,  568],\n",
       "        [2841,    3,  681],\n",
       "        [4124,   16,  572]], dtype=torch.int32)"
      ]
     },
     "execution_count": 3,
     "metadata": {},
     "output_type": "execute_result"
    }
   ],
   "source": [
    "all_triples"
   ]
  },
  {
   "cell_type": "code",
   "execution_count": 4,
   "id": "22709e2c",
   "metadata": {},
   "outputs": [],
   "source": [
    "X = pd.DataFrame(all_triples.numpy(), columns=['s','p','o'])"
   ]
  },
  {
   "cell_type": "code",
   "execution_count": 5,
   "id": "8578bf80",
   "metadata": {},
   "outputs": [
    {
     "data": {
      "text/html": [
       "<div>\n",
       "<style scoped>\n",
       "    .dataframe tbody tr th:only-of-type {\n",
       "        vertical-align: middle;\n",
       "    }\n",
       "\n",
       "    .dataframe tbody tr th {\n",
       "        vertical-align: top;\n",
       "    }\n",
       "\n",
       "    .dataframe thead th {\n",
       "        text-align: right;\n",
       "    }\n",
       "</style>\n",
       "<table border=\"1\" class=\"dataframe\">\n",
       "  <thead>\n",
       "    <tr style=\"text-align: right;\">\n",
       "      <th></th>\n",
       "      <th>s</th>\n",
       "      <th>o</th>\n",
       "    </tr>\n",
       "    <tr>\n",
       "      <th>p</th>\n",
       "      <th></th>\n",
       "      <th></th>\n",
       "    </tr>\n",
       "  </thead>\n",
       "  <tbody>\n",
       "    <tr>\n",
       "      <th>0</th>\n",
       "      <td>324</td>\n",
       "      <td>324</td>\n",
       "    </tr>\n",
       "    <tr>\n",
       "      <th>1</th>\n",
       "      <td>718</td>\n",
       "      <td>718</td>\n",
       "    </tr>\n",
       "    <tr>\n",
       "      <th>2</th>\n",
       "      <td>711</td>\n",
       "      <td>711</td>\n",
       "    </tr>\n",
       "    <tr>\n",
       "      <th>3</th>\n",
       "      <td>290</td>\n",
       "      <td>290</td>\n",
       "    </tr>\n",
       "    <tr>\n",
       "      <th>4</th>\n",
       "      <td>59</td>\n",
       "      <td>59</td>\n",
       "    </tr>\n",
       "    <tr>\n",
       "      <th>5</th>\n",
       "      <td>9832</td>\n",
       "      <td>9832</td>\n",
       "    </tr>\n",
       "    <tr>\n",
       "      <th>6</th>\n",
       "      <td>20</td>\n",
       "      <td>20</td>\n",
       "    </tr>\n",
       "    <tr>\n",
       "      <th>7</th>\n",
       "      <td>2385</td>\n",
       "      <td>2385</td>\n",
       "    </tr>\n",
       "    <tr>\n",
       "      <th>8</th>\n",
       "      <td>4773</td>\n",
       "      <td>4773</td>\n",
       "    </tr>\n",
       "    <tr>\n",
       "      <th>9</th>\n",
       "      <td>4018</td>\n",
       "      <td>4018</td>\n",
       "    </tr>\n",
       "    <tr>\n",
       "      <th>10</th>\n",
       "      <td>334</td>\n",
       "      <td>334</td>\n",
       "    </tr>\n",
       "    <tr>\n",
       "      <th>11</th>\n",
       "      <td>2298</td>\n",
       "      <td>2298</td>\n",
       "    </tr>\n",
       "    <tr>\n",
       "      <th>12</th>\n",
       "      <td>2012</td>\n",
       "      <td>2012</td>\n",
       "    </tr>\n",
       "    <tr>\n",
       "      <th>13</th>\n",
       "      <td>377</td>\n",
       "      <td>377</td>\n",
       "    </tr>\n",
       "    <tr>\n",
       "      <th>14</th>\n",
       "      <td>14</td>\n",
       "      <td>14</td>\n",
       "    </tr>\n",
       "    <tr>\n",
       "      <th>15</th>\n",
       "      <td>4012</td>\n",
       "      <td>4012</td>\n",
       "    </tr>\n",
       "    <tr>\n",
       "      <th>16</th>\n",
       "      <td>3145</td>\n",
       "      <td>3145</td>\n",
       "    </tr>\n",
       "    <tr>\n",
       "      <th>17</th>\n",
       "      <td>309</td>\n",
       "      <td>309</td>\n",
       "    </tr>\n",
       "    <tr>\n",
       "      <th>18</th>\n",
       "      <td>341</td>\n",
       "      <td>341</td>\n",
       "    </tr>\n",
       "    <tr>\n",
       "      <th>19</th>\n",
       "      <td>116</td>\n",
       "      <td>116</td>\n",
       "    </tr>\n",
       "    <tr>\n",
       "      <th>20</th>\n",
       "      <td>29</td>\n",
       "      <td>29</td>\n",
       "    </tr>\n",
       "    <tr>\n",
       "      <th>21</th>\n",
       "      <td>156</td>\n",
       "      <td>156</td>\n",
       "    </tr>\n",
       "    <tr>\n",
       "      <th>22</th>\n",
       "      <td>13</td>\n",
       "      <td>13</td>\n",
       "    </tr>\n",
       "    <tr>\n",
       "      <th>23</th>\n",
       "      <td>15</td>\n",
       "      <td>15</td>\n",
       "    </tr>\n",
       "  </tbody>\n",
       "</table>\n",
       "</div>"
      ],
      "text/plain": [
       "       s     o\n",
       "p             \n",
       "0    324   324\n",
       "1    718   718\n",
       "2    711   711\n",
       "3    290   290\n",
       "4     59    59\n",
       "5   9832  9832\n",
       "6     20    20\n",
       "7   2385  2385\n",
       "8   4773  4773\n",
       "9   4018  4018\n",
       "10   334   334\n",
       "11  2298  2298\n",
       "12  2012  2012\n",
       "13   377   377\n",
       "14    14    14\n",
       "15  4012  4012\n",
       "16  3145  3145\n",
       "17   309   309\n",
       "18   341   341\n",
       "19   116   116\n",
       "20    29    29\n",
       "21   156   156\n",
       "22    13    13\n",
       "23    15    15"
      ]
     },
     "execution_count": 5,
     "metadata": {},
     "output_type": "execute_result"
    }
   ],
   "source": [
    "X.groupby(by=[\"p\"]).count()"
   ]
  },
  {
   "cell_type": "code",
   "execution_count": 6,
   "id": "c50a3b21",
   "metadata": {},
   "outputs": [
    {
     "name": "stderr",
     "output_type": "stream",
     "text": [
      "INFO:numexpr.utils:NumExpr defaulting to 8 threads.\n"
     ]
    }
   ],
   "source": [
    "unique_ent = {}\n",
    "for p in X.p.unique():\n",
    "    tmp = X[X.p==p].nunique()\n",
    "    unique_ent[p] = {'s': tmp[0], 'o': tmp[2]}"
   ]
  },
  {
   "cell_type": "code",
   "execution_count": 7,
   "id": "e18228a1",
   "metadata": {},
   "outputs": [
    {
     "data": {
      "text/plain": [
       "{9: {'s': 1802, 'o': 228},\n",
       " 18: {'s': 146, 'o': 13},\n",
       " 19: {'s': 61, 'o': 9},\n",
       " 17: {'s': 193, 'o': 11},\n",
       " 8: {'s': 2173, 'o': 6},\n",
       " 7: {'s': 1830, 'o': 6},\n",
       " 5: {'s': 3431, 'o': 16},\n",
       " 12: {'s': 1126, 'o': 12},\n",
       " 15: {'s': 2478, 'o': 215},\n",
       " 11: {'s': 1969, 'o': 203},\n",
       " 16: {'s': 3145, 'o': 46},\n",
       " 0: {'s': 286, 'o': 12},\n",
       " 6: {'s': 10, 'o': 12},\n",
       " 10: {'s': 284, 'o': 12},\n",
       " 1: {'s': 153, 'o': 117},\n",
       " 2: {'s': 669, 'o': 130},\n",
       " 21: {'s': 78, 'o': 13},\n",
       " 13: {'s': 377, 'o': 8},\n",
       " 4: {'s': 59, 'o': 6},\n",
       " 3: {'s': 265, 'o': 11},\n",
       " 14: {'s': 11, 'o': 8},\n",
       " 20: {'s': 22, 'o': 3},\n",
       " 23: {'s': 15, 'o': 9},\n",
       " 22: {'s': 13, 'o': 8}}"
      ]
     },
     "execution_count": 7,
     "metadata": {},
     "output_type": "execute_result"
    }
   ],
   "source": [
    "unique_ent"
   ]
  },
  {
   "cell_type": "code",
   "execution_count": 8,
   "id": "ed5631da",
   "metadata": {},
   "outputs": [],
   "source": [
    "rels_del = []\n",
    "for key, value in unique_ent.items():\n",
    "    if unique_ent[key]['s'] < 10 or unique_ent[key]['o'] < 10:\n",
    "        rels_del.append(key)"
   ]
  },
  {
   "cell_type": "code",
   "execution_count": 9,
   "id": "5f06aa04",
   "metadata": {},
   "outputs": [],
   "source": [
    "test_del = pd.DataFrame(test.numpy(), columns=['s','p','o'])\n",
    "new_test = test_del[~test_del.iloc[:,1].isin(rels_del)]\n",
    "np.savetxt('test2id.txt', new_test[['s', 'p', 'o']].values, fmt='%d', delimiter='\\t')\n",
    "\n",
    "valid_del = pd.DataFrame(valid.numpy(), columns=['s','p','o'])\n",
    "new_valid = valid_del[~valid_del.iloc[:,1].isin(rels_del)]\n",
    "np.savetxt('valid2id.txt', new_valid[['s', 'p', 'o']].values, fmt='%d', delimiter='\\t')"
   ]
  },
  {
   "cell_type": "code",
   "execution_count": null,
   "id": "bea6bcbc",
   "metadata": {},
   "outputs": [],
   "source": []
  }
 ],
 "metadata": {
  "kernelspec": {
   "display_name": "Python 3 (ipykernel)",
   "language": "python",
   "name": "python3"
  },
  "language_info": {
   "codemirror_mode": {
    "name": "ipython",
    "version": 3
   },
   "file_extension": ".py",
   "mimetype": "text/x-python",
   "name": "python",
   "nbconvert_exporter": "python",
   "pygments_lexer": "ipython3",
   "version": "3.9.7"
  }
 },
 "nbformat": 4,
 "nbformat_minor": 5
}
