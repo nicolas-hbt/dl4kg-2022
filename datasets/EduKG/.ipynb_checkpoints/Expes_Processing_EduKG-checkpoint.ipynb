{
 "cells": [
  {
   "cell_type": "code",
   "execution_count": 1,
   "id": "fff21aba",
   "metadata": {},
   "outputs": [],
   "source": [
    "import torch.nn as nn\n",
    "import torch\n",
    "import numpy as np\n",
    "import time\n",
    "from collections import defaultdict\n",
    "import pandas as pd\n",
    "from torch.utils import data as torch_data\n",
    "#from ..models import TransE, TransH, DistMult\n",
    "import copy\n",
    "import pickle\n",
    "from numpy import genfromtxt\n",
    "import logging\n",
    "\n",
    "logging.basicConfig(level=logging.INFO)\n",
    "logger = logging.getLogger(__name__)"
   ]
  },
  {
   "cell_type": "code",
   "execution_count": 16,
   "id": "e09a7c92",
   "metadata": {},
   "outputs": [],
   "source": [
    "train = pd.read_csv('train.txt', sep='\\t', header=None, names=['h', 'r', 't', 'A','B','C','D','E','F','G'])\n",
    "val = pd.read_csv('valid.txt', sep='\\t', header=None, names=['h', 'r', 't', 'A','B','C','D','E','F','G'])\n",
    "test = pd.read_csv('test.txt', sep='\\t', header=None, names=['h', 'r', 't', 'A','B','C','D','E','F','G'])\n",
    "\n",
    "train = train[['h', 'r', 't']]\n",
    "val = val[['h', 'r', 't']]\n",
    "test = test[['h', 'r', 't']]\n",
    "\n",
    "np.savetxt('train2id.txt', train.values, fmt='%d', delimiter='\\t')\n",
    "np.savetxt('valid2id.txt', val.values, fmt='%d', delimiter='\\t')\n",
    "np.savetxt('test2id.txt', test.values, fmt='%d', delimiter='\\t')"
   ]
  },
  {
   "cell_type": "code",
   "execution_count": 17,
   "id": "f7ccf6b4",
   "metadata": {},
   "outputs": [],
   "source": [
    "all_df = pd.concat([train, val, test], ignore_index=True)\n",
    "\n",
    "from collections import defaultdict\n",
    "\n",
    "dom_range_rel = defaultdict(dict)\n",
    "X = torch.tensor(all_df.values.astype(np.int32))\n",
    "for triple in range(X.shape[0]):\n",
    "    h,r,t = X[triple][0].item(), X[triple][1].item(), X[triple][2].item()\n",
    "    try:\n",
    "        dom_range_rel[r]['heads'].append(h)\n",
    "    except KeyError:\n",
    "        dom_range_rel[r]['heads'] = [h]\n",
    "    try:\n",
    "        dom_range_rel[r]['tails'].append(t)\n",
    "    except KeyError:\n",
    "        dom_range_rel[r]['tails'] = [t]\n",
    "       \n",
    "dom_range_rel = dict(dom_range_rel)"
   ]
  },
  {
   "cell_type": "code",
   "execution_count": 18,
   "id": "9a82d25b",
   "metadata": {},
   "outputs": [],
   "source": [
    "# saving all to pickle format\n",
    "ent2id = pd.read_csv('ent2id.txt', sep='\\t', header=None, names=['ent', 'id'])\n",
    "rel2id = pd.read_csv('rel2id.txt', sep='\\t', header=None, names=['rel', 'id'])\n",
    "ent2id = ent2id.set_index('ent').to_dict()['id']\n",
    "rel2id = rel2id.set_index('rel').to_dict()['id']"
   ]
  },
  {
   "cell_type": "code",
   "execution_count": 22,
   "id": "7546c9ab",
   "metadata": {},
   "outputs": [],
   "source": [
    "with open('ent2id.pkl', 'wb') as f:\n",
    "    pickle.dump(ent2id, f)\n",
    "with open('rel2id.pkl', 'wb') as f:\n",
    "    pickle.dump(ent2id, f)\n",
    "with open('rel2domrange.pkl', 'wb') as f:\n",
    "    pickle.dump(dom_range_rel, f)"
   ]
  },
  {
   "cell_type": "code",
   "execution_count": 23,
   "id": "e7ac86bf",
   "metadata": {},
   "outputs": [],
   "source": [
    "def get_observed_triples():\n",
    "    all_possible_hs = defaultdict(dict)\n",
    "    all_possible_ts = defaultdict(dict)\n",
    "    # For better performance, run this function locally and store results in pickle format, then save it definitely and load it here\n",
    "    # (instead of running it every time)\n",
    "    train = torch.as_tensor(genfromtxt('train2id.txt', delimiter='\\t'), dtype=torch.int32)\n",
    "    valid = torch.as_tensor(genfromtxt('valid2id.txt', delimiter='\\t'), dtype=torch.int32)\n",
    "    test = torch.as_tensor(genfromtxt('test2id.txt', delimiter='\\t'), dtype=torch.int32)\n",
    "    all_triples = torch.cat((train,valid,test))\n",
    "    X = all_triples.detach().clone()\n",
    "    for triple in range(X.shape[0]):\n",
    "        h,r,t = X[triple][0].item(), X[triple][1].item(), X[triple][2].item()\n",
    "        try:\n",
    "            all_possible_ts[h][r].append(t)\n",
    "        except KeyError:\n",
    "            all_possible_ts[h][r] = [t]\n",
    "\n",
    "    for triple in range(X.shape[0]):\n",
    "        h,r,t = X[triple][0].item(), X[triple][1].item(), X[triple][2].item()\n",
    "        try:\n",
    "            all_possible_hs[t][r].append(h)\n",
    "        except KeyError:\n",
    "            all_possible_hs[t][r] = [h]\n",
    "\n",
    "    all_possible_ts = dict(all_possible_ts)\n",
    "    all_possible_hs = dict(all_possible_hs)\n",
    "    return all_possible_hs, all_possible_ts"
   ]
  },
  {
   "cell_type": "code",
   "execution_count": 24,
   "id": "32ff4602",
   "metadata": {},
   "outputs": [],
   "source": [
    "all_possible_hs, all_possible_ts = get_observed_triples()"
   ]
  },
  {
   "cell_type": "code",
   "execution_count": 25,
   "id": "00ebcc89",
   "metadata": {},
   "outputs": [],
   "source": [
    "with open('observed_heads.pkl', 'wb') as f:\n",
    "    pickle.dump(all_possible_hs, f)\n",
    "with open('observed_tails.pkl', 'wb') as f:\n",
    "    pickle.dump(all_possible_ts, f)"
   ]
  },
  {
   "cell_type": "code",
   "execution_count": null,
   "id": "b903c2c9",
   "metadata": {},
   "outputs": [],
   "source": []
  }
 ],
 "metadata": {
  "kernelspec": {
   "display_name": "Python 3 (ipykernel)",
   "language": "python",
   "name": "python3"
  },
  "language_info": {
   "codemirror_mode": {
    "name": "ipython",
    "version": 3
   },
   "file_extension": ".py",
   "mimetype": "text/x-python",
   "name": "python",
   "nbconvert_exporter": "python",
   "pygments_lexer": "ipython3",
   "version": "3.9.7"
  }
 },
 "nbformat": 4,
 "nbformat_minor": 5
}
